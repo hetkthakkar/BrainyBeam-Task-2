{
 "cells": [
  {
   "cell_type": "markdown",
   "id": "0175ae17",
   "metadata": {},
   "source": [
    "# Task-2: Statistical Analysis\n",
    "### Description: Implement matrix exponentiation for a square matrix using numpy."
   ]
  },
  {
   "cell_type": "code",
   "execution_count": 16,
   "id": "7509c32f",
   "metadata": {},
   "outputs": [
    {
     "name": "stdout",
     "output_type": "stream",
     "text": [
      "Matrix A:\n",
      "[[1 2]\n",
      " [3 4]]\n",
      "\n",
      "A raised to the power of 3 :\n",
      "[[ 37  54]\n",
      " [ 81 118]]\n"
     ]
    }
   ],
   "source": [
    "import numpy as np\n",
    "\n",
    "# Define a square matrix\n",
    "A = np.array([[1, 2],\n",
    "              [3, 4]])\n",
    "\n",
    "# Define the exponent\n",
    "n = 3\n",
    "\n",
    "# Compute A raised to the power of n\n",
    "A_power = np.linalg.matrix_power(A, n)\n",
    "\n",
    "# Print results\n",
    "print(\"Matrix A:\")\n",
    "print(A)\n",
    "print(\"\\nA raised to the power of\", n, \":\")\n",
    "print(A_power)"
   ]
  }
 ],
 "metadata": {
  "kernelspec": {
   "display_name": "Python 3 (ipykernel)",
   "language": "python",
   "name": "python3"
  },
  "language_info": {
   "codemirror_mode": {
    "name": "ipython",
    "version": 3
   },
   "file_extension": ".py",
   "mimetype": "text/x-python",
   "name": "python",
   "nbconvert_exporter": "python",
   "pygments_lexer": "ipython3",
   "version": "3.12.2"
  }
 },
 "nbformat": 4,
 "nbformat_minor": 5
}
